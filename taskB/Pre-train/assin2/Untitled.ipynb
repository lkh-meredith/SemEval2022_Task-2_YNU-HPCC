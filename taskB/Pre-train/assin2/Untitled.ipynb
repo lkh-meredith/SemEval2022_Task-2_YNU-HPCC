{
 "cells": [
  {
   "cell_type": "code",
   "execution_count": 21,
   "id": "molecular-significance",
   "metadata": {},
   "outputs": [],
   "source": [
    "import xml.dom.minidom\n",
    "import os\n",
    "from sentence_transformers.readers  import InputExample"
   ]
  },
  {
   "cell_type": "code",
   "execution_count": 22,
   "id": "quiet-gilbert",
   "metadata": {},
   "outputs": [],
   "source": [
    "train_samples1 = []\n",
    "train_samples2 = []\n",
    "dev_samples = []\n",
    "test_samples = []"
   ]
  },
  {
   "cell_type": "code",
   "execution_count": 23,
   "id": "eleven-housing",
   "metadata": {},
   "outputs": [],
   "source": [
    "# for split in [ 'train', 'validation', 'test' ] :\n",
    "\n",
    "    # for elem in dataset :\n",
    "        ## {'entailment_judgment': 1, 'hypothesis': 'Uma criança está segurando uma pistola de água', 'premise': 'Uma criança risonha está segurando uma pistola de água e sendo espirrada com água', 'relatedness_score': 4.5, 'sentence_pair_id': 1}\n",
    "        # inp_example = InputExample(texts=[elem['hypothesis'], elem['premise']])\n",
    "\n",
    "#     if split == 'validation':\n",
    "#         score = float( elem['relatedness_score'] ) / 5.0 # Normalize score to range 0 ... 1\n",
    "#         inp_example = InputExample(texts=[elem['hypothesis'], elem['premise']], label=score)\n",
    "#         dev_samples.append(inp_example)\n",
    "#     elif split == 'test':\n",
    "#         score = float( elem['relatedness_score'] ) / 5.0 # Normalize score to range 0 ... 1\n",
    "#         inp_example = InputExample(texts=[elem['hypothesis'], elem['premise']], label=score)\n",
    "#         test_samples.append(inp_example)\n",
    "#     elif split == 'train' :\n",
    "dom = xml.dom.minidom.parse(os.path.join('assin2-train-only.xml'))\n",
    "root = dom.documentElement\n",
    "pairs=root.getElementsByTagName('pair')\n",
    "for pair in pairs:\n",
    "    if float(pair.getAttribute('similarity'))>=4.0:\n",
    "        inp_example1 = InputExample(texts=[pair.getElementsByTagName('t')[0].childNodes[0].data, pair.getElementsByTagName('h')[0].childNodes[0].data])\n",
    "        train_samples1.append(inp_example1)\n",
    "    else:\n",
    "        score = float( pair.getAttribute('similarity') ) / 5.0 # Normalize score to range 0 ... 1\n",
    "        inp_example2=InputExample(texts=[pair.getElementsByTagName('t')[0].childNodes[0].data, pair.getElementsByTagName('h')[0].childNodes[0].data],label=score)\n",
    "        train_samples2.append(inp_example2)\n",
    "            # train_samples.append(inp_example)\n",
    "#         else :\n",
    "#             raise Exception( \"Unknown split. Should be one of ['train', 'test', 'validation'].\" )"
   ]
  },
  {
   "cell_type": "code",
   "execution_count": 24,
   "id": "actual-madness",
   "metadata": {},
   "outputs": [
    {
     "data": {
      "text/plain": [
       "(3859, 2641)"
      ]
     },
     "execution_count": 24,
     "metadata": {},
     "output_type": "execute_result"
    }
   ],
   "source": [
    "len(train_samples1),len(train_samples2)"
   ]
  },
  {
   "cell_type": "code",
   "execution_count": 27,
   "id": "agreed-casino",
   "metadata": {},
   "outputs": [
    {
     "data": {
      "text/plain": [
       "'A bola de futebol está entre os pés de um menino que está deitado na grama'"
      ]
     },
     "execution_count": 27,
     "metadata": {},
     "output_type": "execute_result"
    }
   ],
   "source": [
    "pair.getElementsByTagName('t')[0].childNodes[0].data"
   ]
  },
  {
   "cell_type": "code",
   "execution_count": 28,
   "id": "super-adventure",
   "metadata": {},
   "outputs": [
    {
     "data": {
      "text/plain": [
       "'Não tem nenhuma criança pequena jogando futebol e caindo na grama'"
      ]
     },
     "execution_count": 28,
     "metadata": {},
     "output_type": "execute_result"
    }
   ],
   "source": [
    "pair.getElementsByTagName('h')[0].childNodes[0].data"
   ]
  },
  {
   "cell_type": "code",
   "execution_count": 29,
   "id": "disturbed-belfast",
   "metadata": {},
   "outputs": [
    {
     "data": {
      "text/plain": [
       "'3'"
      ]
     },
     "execution_count": 29,
     "metadata": {},
     "output_type": "execute_result"
    }
   ],
   "source": [
    "pair.getAttribute('similarity')"
   ]
  },
  {
   "cell_type": "code",
   "execution_count": null,
   "id": "religious-elements",
   "metadata": {},
   "outputs": [],
   "source": []
  }
 ],
 "metadata": {
  "kernelspec": {
   "display_name": "Python [conda env:pytorch]",
   "language": "python",
   "name": "conda-env-pytorch-py"
  },
  "language_info": {
   "codemirror_mode": {
    "name": "ipython",
    "version": 3
   },
   "file_extension": ".py",
   "mimetype": "text/x-python",
   "name": "python",
   "nbconvert_exporter": "python",
   "pygments_lexer": "ipython3",
   "version": "3.7.9"
  }
 },
 "nbformat": 4,
 "nbformat_minor": 5
}
